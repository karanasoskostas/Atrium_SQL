{
 "cells": [
  {
   "cell_type": "code",
   "execution_count": 1,
   "metadata": {},
   "outputs": [],
   "source": [
    "\"\"\"\n",
    " we are going to use the Wine dataset to illustrate different \n",
    "performance metrics for our algorithms.\n",
    "\n",
    "You can find more info about it here: https://archive.ics.uci.edu/ml/datasets/wine\n",
    "\"\"\"\n",
    "from sklearn.datasets import load_wine\n",
    "\n",
    "# To randomly split the data into train/test \n",
    "from sklearn.model_selection import train_test_split\n",
    "\n",
    "\"\"\"\n",
    "We will compare the performance of all of the classifiers we have seen\n",
    "so far in previous weeks, so we import them all\n",
    "\"\"\"\n",
    "\n",
    "from sklearn.linear_model import LogisticRegression\n",
    "\n",
    "from sklearn.neighbors import KNeighborsClassifier\n",
    "from sklearn.naive_bayes import MultinomialNB  # I will just use one of the Naive Bayes we know about\n",
    "\n",
    "from sklearn.tree import DecisionTreeClassifier\n",
    "from sklearn.ensemble import RandomForestClassifier"
   ]
  },
  {
   "cell_type": "code",
   "execution_count": 3,
   "metadata": {},
   "outputs": [],
   "source": [
    "\"\"\"\n",
    "We are not going to do any optimisation or tuning on them, so let's just use them\n",
    "with their default options. We will save the constructor functions for all of them \n",
    "in a list (array) called \"classifiers\", and then call those default constructor\n",
    "functions and save their instantiation (objects) in a list called \"models\"\n",
    "Note: You can have seen many different parameters\n",
    "for all of these classifiers, so feel free to tune them by adding some parameters to\n",
    "these constructors.\n",
    "\"\"\"\n",
    "classifiers = [LogisticRegression, KNeighborsClassifier, MultinomialNB, \n",
    "               DecisionTreeClassifier, RandomForestClassifier]\n",
    "\n",
    "models = [classifier() for classifier in classifiers]"
   ]
  },
  {
   "cell_type": "code",
   "execution_count": 26,
   "metadata": {},
   "outputs": [
    {
     "data": {
      "text/html": [
       "<div>\n",
       "<style scoped>\n",
       "    .dataframe tbody tr th:only-of-type {\n",
       "        vertical-align: middle;\n",
       "    }\n",
       "\n",
       "    .dataframe tbody tr th {\n",
       "        vertical-align: top;\n",
       "    }\n",
       "\n",
       "    .dataframe thead th {\n",
       "        text-align: right;\n",
       "    }\n",
       "</style>\n",
       "<table border=\"1\" class=\"dataframe\">\n",
       "  <thead>\n",
       "    <tr style=\"text-align: right;\">\n",
       "      <th></th>\n",
       "      <th>alcohol</th>\n",
       "      <th>malic_acid</th>\n",
       "      <th>ash</th>\n",
       "      <th>alcalinity_of_ash</th>\n",
       "      <th>magnesium</th>\n",
       "      <th>total_phenols</th>\n",
       "      <th>flavanoids</th>\n",
       "      <th>nonflavanoid_phenols</th>\n",
       "      <th>proanthocyanins</th>\n",
       "      <th>color_intensity</th>\n",
       "      <th>hue</th>\n",
       "      <th>od280/od315_of_diluted_wines</th>\n",
       "      <th>proline</th>\n",
       "      <th>target</th>\n",
       "    </tr>\n",
       "  </thead>\n",
       "  <tbody>\n",
       "    <tr>\n",
       "      <th>0</th>\n",
       "      <td>14.23</td>\n",
       "      <td>1.71</td>\n",
       "      <td>2.43</td>\n",
       "      <td>15.6</td>\n",
       "      <td>127.0</td>\n",
       "      <td>2.80</td>\n",
       "      <td>3.06</td>\n",
       "      <td>0.28</td>\n",
       "      <td>2.29</td>\n",
       "      <td>5.64</td>\n",
       "      <td>1.04</td>\n",
       "      <td>3.92</td>\n",
       "      <td>1065.0</td>\n",
       "      <td>0</td>\n",
       "    </tr>\n",
       "    <tr>\n",
       "      <th>1</th>\n",
       "      <td>13.20</td>\n",
       "      <td>1.78</td>\n",
       "      <td>2.14</td>\n",
       "      <td>11.2</td>\n",
       "      <td>100.0</td>\n",
       "      <td>2.65</td>\n",
       "      <td>2.76</td>\n",
       "      <td>0.26</td>\n",
       "      <td>1.28</td>\n",
       "      <td>4.38</td>\n",
       "      <td>1.05</td>\n",
       "      <td>3.40</td>\n",
       "      <td>1050.0</td>\n",
       "      <td>0</td>\n",
       "    </tr>\n",
       "    <tr>\n",
       "      <th>2</th>\n",
       "      <td>13.16</td>\n",
       "      <td>2.36</td>\n",
       "      <td>2.67</td>\n",
       "      <td>18.6</td>\n",
       "      <td>101.0</td>\n",
       "      <td>2.80</td>\n",
       "      <td>3.24</td>\n",
       "      <td>0.30</td>\n",
       "      <td>2.81</td>\n",
       "      <td>5.68</td>\n",
       "      <td>1.03</td>\n",
       "      <td>3.17</td>\n",
       "      <td>1185.0</td>\n",
       "      <td>0</td>\n",
       "    </tr>\n",
       "    <tr>\n",
       "      <th>3</th>\n",
       "      <td>14.37</td>\n",
       "      <td>1.95</td>\n",
       "      <td>2.50</td>\n",
       "      <td>16.8</td>\n",
       "      <td>113.0</td>\n",
       "      <td>3.85</td>\n",
       "      <td>3.49</td>\n",
       "      <td>0.24</td>\n",
       "      <td>2.18</td>\n",
       "      <td>7.80</td>\n",
       "      <td>0.86</td>\n",
       "      <td>3.45</td>\n",
       "      <td>1480.0</td>\n",
       "      <td>0</td>\n",
       "    </tr>\n",
       "    <tr>\n",
       "      <th>4</th>\n",
       "      <td>13.24</td>\n",
       "      <td>2.59</td>\n",
       "      <td>2.87</td>\n",
       "      <td>21.0</td>\n",
       "      <td>118.0</td>\n",
       "      <td>2.80</td>\n",
       "      <td>2.69</td>\n",
       "      <td>0.39</td>\n",
       "      <td>1.82</td>\n",
       "      <td>4.32</td>\n",
       "      <td>1.04</td>\n",
       "      <td>2.93</td>\n",
       "      <td>735.0</td>\n",
       "      <td>0</td>\n",
       "    </tr>\n",
       "    <tr>\n",
       "      <th>...</th>\n",
       "      <td>...</td>\n",
       "      <td>...</td>\n",
       "      <td>...</td>\n",
       "      <td>...</td>\n",
       "      <td>...</td>\n",
       "      <td>...</td>\n",
       "      <td>...</td>\n",
       "      <td>...</td>\n",
       "      <td>...</td>\n",
       "      <td>...</td>\n",
       "      <td>...</td>\n",
       "      <td>...</td>\n",
       "      <td>...</td>\n",
       "      <td>...</td>\n",
       "    </tr>\n",
       "    <tr>\n",
       "      <th>173</th>\n",
       "      <td>13.71</td>\n",
       "      <td>5.65</td>\n",
       "      <td>2.45</td>\n",
       "      <td>20.5</td>\n",
       "      <td>95.0</td>\n",
       "      <td>1.68</td>\n",
       "      <td>0.61</td>\n",
       "      <td>0.52</td>\n",
       "      <td>1.06</td>\n",
       "      <td>7.70</td>\n",
       "      <td>0.64</td>\n",
       "      <td>1.74</td>\n",
       "      <td>740.0</td>\n",
       "      <td>2</td>\n",
       "    </tr>\n",
       "    <tr>\n",
       "      <th>174</th>\n",
       "      <td>13.40</td>\n",
       "      <td>3.91</td>\n",
       "      <td>2.48</td>\n",
       "      <td>23.0</td>\n",
       "      <td>102.0</td>\n",
       "      <td>1.80</td>\n",
       "      <td>0.75</td>\n",
       "      <td>0.43</td>\n",
       "      <td>1.41</td>\n",
       "      <td>7.30</td>\n",
       "      <td>0.70</td>\n",
       "      <td>1.56</td>\n",
       "      <td>750.0</td>\n",
       "      <td>2</td>\n",
       "    </tr>\n",
       "    <tr>\n",
       "      <th>175</th>\n",
       "      <td>13.27</td>\n",
       "      <td>4.28</td>\n",
       "      <td>2.26</td>\n",
       "      <td>20.0</td>\n",
       "      <td>120.0</td>\n",
       "      <td>1.59</td>\n",
       "      <td>0.69</td>\n",
       "      <td>0.43</td>\n",
       "      <td>1.35</td>\n",
       "      <td>10.20</td>\n",
       "      <td>0.59</td>\n",
       "      <td>1.56</td>\n",
       "      <td>835.0</td>\n",
       "      <td>2</td>\n",
       "    </tr>\n",
       "    <tr>\n",
       "      <th>176</th>\n",
       "      <td>13.17</td>\n",
       "      <td>2.59</td>\n",
       "      <td>2.37</td>\n",
       "      <td>20.0</td>\n",
       "      <td>120.0</td>\n",
       "      <td>1.65</td>\n",
       "      <td>0.68</td>\n",
       "      <td>0.53</td>\n",
       "      <td>1.46</td>\n",
       "      <td>9.30</td>\n",
       "      <td>0.60</td>\n",
       "      <td>1.62</td>\n",
       "      <td>840.0</td>\n",
       "      <td>2</td>\n",
       "    </tr>\n",
       "    <tr>\n",
       "      <th>177</th>\n",
       "      <td>14.13</td>\n",
       "      <td>4.10</td>\n",
       "      <td>2.74</td>\n",
       "      <td>24.5</td>\n",
       "      <td>96.0</td>\n",
       "      <td>2.05</td>\n",
       "      <td>0.76</td>\n",
       "      <td>0.56</td>\n",
       "      <td>1.35</td>\n",
       "      <td>9.20</td>\n",
       "      <td>0.61</td>\n",
       "      <td>1.60</td>\n",
       "      <td>560.0</td>\n",
       "      <td>2</td>\n",
       "    </tr>\n",
       "  </tbody>\n",
       "</table>\n",
       "<p>178 rows × 14 columns</p>\n",
       "</div>"
      ],
      "text/plain": [
       "     alcohol  malic_acid   ash  alcalinity_of_ash  magnesium  total_phenols  \\\n",
       "0      14.23        1.71  2.43               15.6      127.0           2.80   \n",
       "1      13.20        1.78  2.14               11.2      100.0           2.65   \n",
       "2      13.16        2.36  2.67               18.6      101.0           2.80   \n",
       "3      14.37        1.95  2.50               16.8      113.0           3.85   \n",
       "4      13.24        2.59  2.87               21.0      118.0           2.80   \n",
       "..       ...         ...   ...                ...        ...            ...   \n",
       "173    13.71        5.65  2.45               20.5       95.0           1.68   \n",
       "174    13.40        3.91  2.48               23.0      102.0           1.80   \n",
       "175    13.27        4.28  2.26               20.0      120.0           1.59   \n",
       "176    13.17        2.59  2.37               20.0      120.0           1.65   \n",
       "177    14.13        4.10  2.74               24.5       96.0           2.05   \n",
       "\n",
       "     flavanoids  nonflavanoid_phenols  proanthocyanins  color_intensity   hue  \\\n",
       "0          3.06                  0.28             2.29             5.64  1.04   \n",
       "1          2.76                  0.26             1.28             4.38  1.05   \n",
       "2          3.24                  0.30             2.81             5.68  1.03   \n",
       "3          3.49                  0.24             2.18             7.80  0.86   \n",
       "4          2.69                  0.39             1.82             4.32  1.04   \n",
       "..          ...                   ...              ...              ...   ...   \n",
       "173        0.61                  0.52             1.06             7.70  0.64   \n",
       "174        0.75                  0.43             1.41             7.30  0.70   \n",
       "175        0.69                  0.43             1.35            10.20  0.59   \n",
       "176        0.68                  0.53             1.46             9.30  0.60   \n",
       "177        0.76                  0.56             1.35             9.20  0.61   \n",
       "\n",
       "     od280/od315_of_diluted_wines  proline  target  \n",
       "0                            3.92   1065.0       0  \n",
       "1                            3.40   1050.0       0  \n",
       "2                            3.17   1185.0       0  \n",
       "3                            3.45   1480.0       0  \n",
       "4                            2.93    735.0       0  \n",
       "..                            ...      ...     ...  \n",
       "173                          1.74    740.0       2  \n",
       "174                          1.56    750.0       2  \n",
       "175                          1.56    835.0       2  \n",
       "176                          1.62    840.0       2  \n",
       "177                          1.60    560.0       2  \n",
       "\n",
       "[178 rows x 14 columns]"
      ]
     },
     "execution_count": 26,
     "metadata": {},
     "output_type": "execute_result"
    }
   ],
   "source": [
    "\"\"\"\n",
    "We will download the dataset, we will note the input features and the target\n",
    "that we are going to classify (in this case we have 3 classes)\n",
    "\"\"\"\n",
    "wine_data = load_wine(return_X_y=False, as_frame=True)\n",
    "wine_data = wine_data.frame # We just take the Pandas DataFrame from the data\n",
    "input_features = list(wine_data.columns[:-1]) # All of the columns, apart from the last one, are input features - the last column is the target feature\n",
    "wine_data  # We can display the data like this"
   ]
  },
  {
   "cell_type": "code",
   "execution_count": 4,
   "metadata": {},
   "outputs": [
    {
     "name": "stdout",
     "output_type": "stream",
     "text": [
      "We are using 106 samples for training the 5 models and 72 samples for testing them later.\n"
     ]
    }
   ],
   "source": [
    "\"\"\"\n",
    "We will split the data into a train dataset (which \n",
    "we will use to train/fit our models) and a test dataset (which we will use to test \n",
    "them -> AND to evaluate their performance a little bit better than with just the accuracy)\n",
    "\"\"\"\n",
    "PERCENTAGE_SAMPLES_USED_FOR_TESTING = 0.4\n",
    "\n",
    "train, test = train_test_split(wine_data, test_size=PERCENTAGE_SAMPLES_USED_FOR_TESTING)\n",
    "print('We are using', len(train),'samples for training the', len(models),'models and',len(test),'samples for testing them later.')"
   ]
  },
  {
   "cell_type": "code",
   "execution_count": 5,
   "metadata": {},
   "outputs": [
    {
     "name": "stderr",
     "output_type": "stream",
     "text": [
      "D:\\Anaconda\\Lib\\site-packages\\sklearn\\linear_model\\_logistic.py:460: ConvergenceWarning: lbfgs failed to converge (status=1):\n",
      "STOP: TOTAL NO. of ITERATIONS REACHED LIMIT.\n",
      "\n",
      "Increase the number of iterations (max_iter) or scale the data as shown in:\n",
      "    https://scikit-learn.org/stable/modules/preprocessing.html\n",
      "Please also refer to the documentation for alternative solver options:\n",
      "    https://scikit-learn.org/stable/modules/linear_model.html#logistic-regression\n",
      "  n_iter_i = _check_optimize_result(\n"
     ]
    },
    {
     "name": "stdout",
     "output_type": "stream",
     "text": [
      "LogisticRegression() :  0.9305555555555556\n",
      "KNeighborsClassifier() :  0.6527777777777778\n",
      "MultinomialNB() :  0.8611111111111112\n",
      "DecisionTreeClassifier() :  0.8611111111111112\n",
      "RandomForestClassifier() :  0.9861111111111112\n"
     ]
    }
   ],
   "source": [
    "\"\"\"\n",
    "Now we can train all of our models in a loop\n",
    "\"\"\"\n",
    "for m in models:\n",
    "    m.fit(train[input_features], train['target'])\n",
    "    \n",
    "\"\"\"\n",
    "And once they are fit (trained) we can then use them to make predictions/estimations for\n",
    "the test data samples, and compare those predictions/estimations with the \"real\" target\n",
    "values in the test data.\n",
    "Here I will use the score function, that calculates the accuracy (from 0 to 1 where 0 is\n",
    "0% accurate and 1 is 100% accurate - i.e. it guessed correctly all of the test samples).\n",
    "\n",
    "\n",
    "Note: You might get some warning for some algorithm, because we are not tuning them and\n",
    "the default parameters not always work - feel free to tune it or let's just go with\n",
    "whatever accuracy.\n",
    "\"\"\"\n",
    "for m in models:\n",
    "    score = m.score(test[input_features], test['target'])\n",
    "    print(str(m), \": \",score)"
   ]
  },
  {
   "cell_type": "code",
   "execution_count": 6,
   "metadata": {},
   "outputs": [
    {
     "name": "stdout",
     "output_type": "stream",
     "text": [
      "\n",
      "Balanced Accuracy Scores for LogisticRegression() :\n",
      "0.9237373737373739\n",
      "\n",
      "Balanced Accuracy Scores for KNeighborsClassifier() :\n",
      "0.6515151515151515\n",
      "\n",
      "Balanced Accuracy Scores for MultinomialNB() :\n",
      "0.8585858585858586\n",
      "\n",
      "Balanced Accuracy Scores for DecisionTreeClassifier() :\n",
      "0.8727272727272727\n",
      "\n",
      "Balanced Accuracy Scores for RandomForestClassifier() :\n",
      "0.9888888888888889\n"
     ]
    }
   ],
   "source": [
    "\"\"\"\n",
    "Let's look at their balanced accuracies, to understand what they are doing well and wrong...\n",
    "\"\"\"\n",
    "from sklearn.metrics import balanced_accuracy_score\n",
    "\n",
    "for m in models:\n",
    "    predictions = m.predict(test[input_features])\n",
    "    print()\n",
    "    print(\"Balanced Accuracy Scores for\", str(m), \":\")\n",
    "    balanced_accuracies = balanced_accuracy_score(test['target'], predictions)\n",
    "    print(balanced_accuracies)\n"
   ]
  },
  {
   "cell_type": "code",
   "execution_count": 8,
   "metadata": {},
   "outputs": [
    {
     "name": "stdout",
     "output_type": "stream",
     "text": [
      "\n",
      "Confusion matrix for LogisticRegression() :\n",
      "[[17  3  0]\n",
      " [ 1 29  0]\n",
      " [ 0  1 21]]\n",
      "\n",
      "Confusion matrix for KNeighborsClassifier() :\n",
      "[[16  0  4]\n",
      " [ 1 21  8]\n",
      " [ 0 12 10]]\n",
      "\n",
      "Confusion matrix for MultinomialNB() :\n",
      "[[16  3  1]\n",
      " [ 2 26  2]\n",
      " [ 0  2 20]]\n",
      "\n",
      "Confusion matrix for DecisionTreeClassifier() :\n",
      "[[20  0  0]\n",
      " [ 3 24  3]\n",
      " [ 1  3 18]]\n",
      "\n",
      "Confusion matrix for RandomForestClassifier() :\n",
      "[[20  0  0]\n",
      " [ 0 29  1]\n",
      " [ 0  0 22]]\n"
     ]
    }
   ],
   "source": [
    "\"\"\"\n",
    "Those accuracies don't tell us much about what classes perform better than others...\n",
    "So let's look at the Confusion Matrices\n",
    "\"\"\"\n",
    "from sklearn.metrics import confusion_matrix, ConfusionMatrixDisplay\n",
    "\n",
    "for m in models:\n",
    "    predictions = m.predict(test[input_features])\n",
    "    # cm will be a list of lists (matrix), with the values of the confusion matrix...\n",
    "    cm = confusion_matrix(test['target'], predictions, labels=m.classes_)\n",
    "    print()\n",
    "    print(\"Confusion matrix for\", str(m), \":\")\n",
    "    print(cm)"
   ]
  },
  {
   "cell_type": "code",
   "execution_count": 15,
   "metadata": {},
   "outputs": [
    {
     "name": "stdout",
     "output_type": "stream",
     "text": [
      "Confusion Matrix for  LogisticRegression()\n"
     ]
    },
    {
     "data": {
      "text/plain": [
       "<sklearn.metrics._plot.confusion_matrix.ConfusionMatrixDisplay at 0x163e51d07d0>"
      ]
     },
     "execution_count": 15,
     "metadata": {},
     "output_type": "execute_result"
    },
    {
     "data": {
      "image/png": "[encoded data removed]",
      "text/plain": [
       "<Figure size 640x480 with 2 Axes>"
      ]
     },
     "metadata": {},
     "output_type": "display_data"
    }
   ],
   "source": [
    "\n",
    "# ... however it's better to just plot it out to visualise it.\n",
    "# In one function we're doing the predictions in the test set and plotting them:\n",
    "\n",
    "# We are doing them one by one in different cells:\n",
    "print(\"Confusion Matrix for \", str(models[0]))\n",
    "ConfusionMatrixDisplay.from_estimator(models[0], \n",
    "                      X=test[input_features], \n",
    "                      y=test['target'], \n",
    "                      labels=models[0].classes_,\n",
    "                      cmap='Blues') # we changed the colormap to something less psychodelic than the default"
   ]
  },
  {
   "cell_type": "code",
   "execution_count": 16,
   "metadata": {},
   "outputs": [
    {
     "name": "stdout",
     "output_type": "stream",
     "text": [
      "Confusion Matrix for  KNeighborsClassifier()\n"
     ]
    },
    {
     "data": {
      "text/plain": [
       "<sklearn.metrics._plot.confusion_matrix.ConfusionMatrixDisplay at 0x163e5eae5d0>"
      ]
     },
     "execution_count": 16,
     "metadata": {},
     "output_type": "execute_result"
    },
    {
     "data": {
      "image/png": "[encoded data removed]",
      "text/plain": [
       "<Figure size 640x480 with 2 Axes>"
      ]
     },
     "metadata": {},
     "output_type": "display_data"
    }
   ],
   "source": [
    "print(\"Confusion Matrix for \", str(models[1]))\n",
    "ConfusionMatrixDisplay.from_estimator(models[1], \n",
    "                      X=test[input_features], \n",
    "                      y=test['target'], \n",
    "                      labels=models[1].classes_,\n",
    "                      cmap='Blues') #We changed the colormap to something less psychodelic than the default"
   ]
  },
  {
   "cell_type": "code",
   "execution_count": 17,
   "metadata": {},
   "outputs": [
    {
     "name": "stdout",
     "output_type": "stream",
     "text": [
      "Confusion Matrix for  MultinomialNB()\n"
     ]
    },
    {
     "data": {
      "text/plain": [
       "<sklearn.metrics._plot.confusion_matrix.ConfusionMatrixDisplay at 0x163e5f46310>"
      ]
     },
     "execution_count": 17,
     "metadata": {},
     "output_type": "execute_result"
    },
    {
     "data": {
      "image/png": "[encoded data removed]",
      "text/plain": [
       "<Figure size 640x480 with 2 Axes>"
      ]
     },
     "metadata": {},
     "output_type": "display_data"
    }
   ],
   "source": [
    "print(\"Confusion Matrix for \", str(models[2]))\n",
    "ConfusionMatrixDisplay.from_estimator(models[2], \n",
    "                      X=test[input_features], \n",
    "                      y=test['target'], \n",
    "                      labels=models[2].classes_,\n",
    "                      cmap='Blues') # We  changed the colormap to something less psychodelic than the default"
   ]
  },
  {
   "cell_type": "code",
   "execution_count": 18,
   "metadata": {},
   "outputs": [
    {
     "name": "stdout",
     "output_type": "stream",
     "text": [
      "Confusion Matrix for  DecisionTreeClassifier()\n"
     ]
    },
    {
     "data": {
      "text/plain": [
       "<sklearn.metrics._plot.confusion_matrix.ConfusionMatrixDisplay at 0x163e5dd6b10>"
      ]
     },
     "execution_count": 18,
     "metadata": {},
     "output_type": "execute_result"
    },
    {
     "data": {
      "image/png": "[encoded data removed]",
      "text/plain": [
       "<Figure size 640x480 with 2 Axes>"
      ]
     },
     "metadata": {},
     "output_type": "display_data"
    }
   ],
   "source": [
    "print(\"Confusion Matrix for \", str(models[3]))\n",
    "ConfusionMatrixDisplay.from_estimator(models[3], \n",
    "                      X=test[input_features], \n",
    "                      y=test['target'], \n",
    "                      labels=models[3].classes_,\n",
    "                      cmap='Blues') # We did the same, we changed the colormap to something less psychodelic than the default"
   ]
  },
  {
   "cell_type": "code",
   "execution_count": 19,
   "metadata": {},
   "outputs": [
    {
     "name": "stdout",
     "output_type": "stream",
     "text": [
      "Confusion Matrix for  RandomForestClassifier()\n"
     ]
    },
    {
     "data": {
      "text/plain": [
       "<sklearn.metrics._plot.confusion_matrix.ConfusionMatrixDisplay at 0x163e5773450>"
      ]
     },
     "execution_count": 19,
     "metadata": {},
     "output_type": "execute_result"
    },
    {
     "data": {
      "image/png": "[encoded data removed]",
      "text/plain": [
       "<Figure size 640x480 with 2 Axes>"
      ]
     },
     "metadata": {},
     "output_type": "display_data"
    }
   ],
   "source": [
    "print(\"Confusion Matrix for \", str(models[4]))\n",
    "ConfusionMatrixDisplay.from_estimator(models[4], \n",
    "                      X=test[input_features], \n",
    "                      y=test['target'], \n",
    "                      labels=models[4].classes_,\n",
    "                      cmap='Blues') # the colormap to something less psychodelic than the default"
   ]
  },
  {
   "cell_type": "markdown",
   "metadata": {},
   "source": [
    "Note: The Confusion Matrices above whose diagonals are darker mean that they are better models. You can also see in them which classes your models are predicting better than others. \n",
    "\n",
    "The data is randomised so maybe this is not the case for you but in some of the runs it seems like KNN is struggling with Wine Type 2 (class \"2\"). And this is what mainly causes its low performance. RandomForest on the other hand is always predicting class \"2\" correctly, and its mistakes come from confusing classes \"0\" and \"1\""
   ]
  },
  {
   "cell_type": "code",
   "execution_count": 11,
   "metadata": {},
   "outputs": [
    {
     "name": "stdout",
     "output_type": "stream",
     "text": [
      "\n",
      "\n",
      "\n",
      "Confusion matrix for LogisticRegression() :\n",
      "[[0.85       0.15       0.        ]\n",
      " [0.03333333 0.96666667 0.        ]\n",
      " [0.         0.04545455 0.95454545]]\n",
      "  * Accuracies per class: \n",
      "     [('Class 0', 0.85), ('Class 1', 0.97), ('Class 2', 0.95)]\n",
      "  * Balanced Accuracy for  LogisticRegression() :\n",
      "     0.9237\n",
      "(this should be the same balanced score value that we calculated above, using the balanced_accuracy_score function)\n",
      "\n",
      "\n",
      "\n",
      "Confusion matrix for KNeighborsClassifier() :\n",
      "[[0.8        0.         0.2       ]\n",
      " [0.03333333 0.7        0.26666667]\n",
      " [0.         0.54545455 0.45454545]]\n",
      "  * Accuracies per class: \n",
      "     [('Class 0', 0.8), ('Class 1', 0.7), ('Class 2', 0.45)]\n",
      "  * Balanced Accuracy for  KNeighborsClassifier() :\n",
      "     0.6515\n",
      "(this should be the same balanced score value that we calculated above, using the balanced_accuracy_score function)\n",
      "\n",
      "\n",
      "\n",
      "Confusion matrix for MultinomialNB() :\n",
      "[[0.8        0.15       0.05      ]\n",
      " [0.06666667 0.86666667 0.06666667]\n",
      " [0.         0.09090909 0.90909091]]\n",
      "  * Accuracies per class: \n",
      "     [('Class 0', 0.8), ('Class 1', 0.87), ('Class 2', 0.91)]\n",
      "  * Balanced Accuracy for  MultinomialNB() :\n",
      "     0.8586\n",
      "(this should be the same balanced score value that we calculated above, using the balanced_accuracy_score function)\n",
      "\n",
      "\n",
      "\n",
      "Confusion matrix for DecisionTreeClassifier() :\n",
      "[[1.         0.         0.        ]\n",
      " [0.1        0.8        0.1       ]\n",
      " [0.04545455 0.13636364 0.81818182]]\n",
      "  * Accuracies per class: \n",
      "     [('Class 0', 1.0), ('Class 1', 0.8), ('Class 2', 0.82)]\n",
      "  * Balanced Accuracy for  DecisionTreeClassifier() :\n",
      "     0.8727\n",
      "(this should be the same balanced score value that we calculated above, using the balanced_accuracy_score function)\n",
      "\n",
      "\n",
      "\n",
      "Confusion matrix for RandomForestClassifier() :\n",
      "[[1.         0.         0.        ]\n",
      " [0.         0.96666667 0.03333333]\n",
      " [0.         0.         1.        ]]\n",
      "  * Accuracies per class: \n",
      "     [('Class 0', 1.0), ('Class 1', 0.97), ('Class 2', 1.0)]\n",
      "  * Balanced Accuracy for  RandomForestClassifier() :\n",
      "     0.9889\n",
      "(this should be the same balanced score value that we calculated above, using the balanced_accuracy_score function)\n"
     ]
    }
   ],
   "source": [
    "\"\"\"\n",
    "Let's calculate again the confusion matrices, but this time normalised:\n",
    "\n",
    "Then, the diagonal of the confusion matrix are the accuracies for each class!!\n",
    "So we can calculate the Balance Accuracy in this way, which is relatively simple:\n",
    "  * First calculate each class' individual accuracy\n",
    "  * Then average those individual class accuracies\n",
    "\n",
    "\"\"\"\n",
    "for m in models:\n",
    "    predictions = m.predict(test[input_features])\n",
    "    # cm will be a list of lists (matrix), with the values of the confusion matrix...\n",
    "    cm = confusion_matrix(test['target'], predictions, labels=m.classes_, normalize='true')\n",
    "    print('\\n\\n')\n",
    "    print(\"Confusion matrix for\", str(m), \":\")\n",
    "    print(cm)\n",
    "    print(\"  * Accuracies per class: \")\n",
    "    print('    ', list(zip(['Class 0', 'Class 1', 'Class 2'], [round(x, 2) for x in cm.diagonal()])))\n",
    "    print(\"  * Balanced Accuracy for \", str(m), \":\")\n",
    "    print('    ', round(sum(cm.diagonal())/len(cm.diagonal()), 4))\n",
    "    print('(this should be the same balanced score value that we calculated above, using the balanced_accuracy_score function)')"
   ]
  },
  {
   "cell_type": "markdown",
   "metadata": {},
   "source": [
    "try to remember the slides of this session, many classification performance metrics such as precision, recall and f1-score are derived from the Confusion Matrix by counting right and wrong predictions in different ways (false positives, true negatives, etc.).\n",
    "\n",
    "A very interesting function in sklearn that you can use to get a glance of there metrics, per class, is classification_report. Let's check it out:"
   ]
  },
  {
   "cell_type": "code",
   "execution_count": 12,
   "metadata": {},
   "outputs": [
    {
     "name": "stdout",
     "output_type": "stream",
     "text": [
      "***** Classification report for  LogisticRegression() ***** \n",
      "              precision    recall  f1-score   support\n",
      "\n",
      "           0       0.94      0.85      0.89        20\n",
      "           1       0.88      0.97      0.92        30\n",
      "           2       1.00      0.95      0.98        22\n",
      "\n",
      "    accuracy                           0.93        72\n",
      "   macro avg       0.94      0.92      0.93        72\n",
      "weighted avg       0.93      0.93      0.93        72\n",
      "\n",
      "***** Classification report for  KNeighborsClassifier() ***** \n",
      "              precision    recall  f1-score   support\n",
      "\n",
      "           0       0.94      0.80      0.86        20\n",
      "           1       0.64      0.70      0.67        30\n",
      "           2       0.45      0.45      0.45        22\n",
      "\n",
      "    accuracy                           0.65        72\n",
      "   macro avg       0.68      0.65      0.66        72\n",
      "weighted avg       0.67      0.65      0.66        72\n",
      "\n",
      "***** Classification report for  MultinomialNB() ***** \n",
      "              precision    recall  f1-score   support\n",
      "\n",
      "           0       0.89      0.80      0.84        20\n",
      "           1       0.84      0.87      0.85        30\n",
      "           2       0.87      0.91      0.89        22\n",
      "\n",
      "    accuracy                           0.86        72\n",
      "   macro avg       0.87      0.86      0.86        72\n",
      "weighted avg       0.86      0.86      0.86        72\n",
      "\n",
      "***** Classification report for  DecisionTreeClassifier() ***** \n",
      "              precision    recall  f1-score   support\n",
      "\n",
      "           0       0.83      1.00      0.91        20\n",
      "           1       0.89      0.80      0.84        30\n",
      "           2       0.86      0.82      0.84        22\n",
      "\n",
      "    accuracy                           0.86        72\n",
      "   macro avg       0.86      0.87      0.86        72\n",
      "weighted avg       0.86      0.86      0.86        72\n",
      "\n",
      "***** Classification report for  RandomForestClassifier() ***** \n",
      "              precision    recall  f1-score   support\n",
      "\n",
      "           0       1.00      1.00      1.00        20\n",
      "           1       1.00      0.97      0.98        30\n",
      "           2       0.96      1.00      0.98        22\n",
      "\n",
      "    accuracy                           0.99        72\n",
      "   macro avg       0.99      0.99      0.99        72\n",
      "weighted avg       0.99      0.99      0.99        72\n",
      "\n"
     ]
    }
   ],
   "source": [
    "from sklearn.metrics import classification_report\n",
    "\n",
    "\n",
    "for m in models:\n",
    "    predictions = m.predict(test[input_features])\n",
    "    print('***** Classification report for ', str(m), '***** ')\n",
    "    print(classification_report(test['target'], predictions))"
   ]
  },
  {
   "cell_type": "markdown",
   "metadata": {},
   "source": [
    "We can see there how poorly KNN performs in Class 2, across all of the metrics\n",
    "\n",
    "If you remember from the slides, the precision, recall and f1-score metrics were designed for binary classifiers, so... why does it work in this case with 3 classes?\n",
    "\n",
    "Well, what sklearn is doing when calculating them per class is \"transforming the problem into a binary classifier\" by calculating the metrics as: the current class vs all other classes. In this way the problem becomes a binary classifier, whatever the number of classes we have.\n",
    "\n",
    "We could have also calculated each of these metrics separately. In fact, we could have calculated many other metrics, all of them available in the sklearn.metrics package (check docs here: https://scikit-learn.org/stable/modules/classes.html#module-sklearn.metrics). I will leave that to you...\n",
    "\n",
    "### try to do the following:\n",
    "Can you calculate the precision, recall and f1-scores separately using their corresponding function in the metrics package?\n"
   ]
  },
  {
   "cell_type": "code",
   "execution_count": 13,
   "metadata": {},
   "outputs": [
    {
     "name": "stdout",
     "output_type": "stream",
     "text": [
      "***** ROC Area Under the Curve for LogisticRegression() ***** \n",
      "0.9936937136937137\n",
      "***** ROC Area Under the Curve for KNeighborsClassifier() ***** \n",
      "0.8164783364783365\n",
      "***** ROC Area Under the Curve for MultinomialNB() ***** \n",
      "0.9606890331890332\n",
      "***** ROC Area Under the Curve for DecisionTreeClassifier() ***** \n",
      "0.9016383616383618\n",
      "***** ROC Area Under the Curve for RandomForestClassifier() ***** \n",
      "1.0\n"
     ]
    }
   ],
   "source": [
    "from sklearn.metrics import roc_auc_score\n",
    "\n",
    "for m in models:\n",
    "    # We will need the proabilities, so the X axis of the ROC curve can be calculated\n",
    "    # (i.e. for different thresholds, remember?)\n",
    "    predictions = m.predict_proba(test[input_features])\n",
    "    print('***** ROC Area Under the Curve for', str(m), '***** ')\n",
    "    print(roc_auc_score(y_true=list(test['target']), \n",
    "                        y_score=predictions, \n",
    "                        multi_class='ovr')\n",
    "         )"
   ]
  },
  {
   "cell_type": "markdown",
   "metadata": {},
   "source": [
    "So RandomForest is not just the classifier with the highest accuracy, but also the one that better differentiates the classes between them!\n",
    "And remember, ROC works for binary classifiers, so in this multi-class problem we are specifying the OVR strategy: one-vs-rest, that is one class vs the rest of classes, and then average out the AUC scores for all 3 classes.\n",
    "\n",
    "We could plot those ROC curves so we can visualise the five performances if our classification problem was binary, just by using the code given by sklearn here:\n",
    "https://scikit-learn.org/stable/auto_examples/model_selection/plot_roc.html\n",
    "\n",
    "In short: We'd have to apply the one-vs-rest strategy into the classifier (there is a special type of meta-classifier that applies this strategy on top of any other classifier), and then we'd manually plot the data returned by the auc function in the metrics package.\n",
    "\n",
    "If you ever have a binary classification problem, just do:\n",
    "\n",
    "```\n",
    "from sklearn.metrics import plot_roc_curve\n",
    "plot_roc_curve(models[0], test[input_features], test['target'])\n",
    "```\n",
    "\n",
    "However if you run that code here it'll complain that your classifiers are not binary... :("
   ]
  },
  {
   "cell_type": "markdown",
   "metadata": {},
   "source": [
    "### Learning exercise:\n",
    "\n",
    "Finally, note that we also have all of the [Regression success metrics in the `sklearn.metrics` package](https://scikit-learn.org/stable/modules/model_evaluation.html#regression-metrics)\n",
    "\n",
    "you can experiment further, if you want to follow these steps: \n",
    "1. load the [diabetes data, which is a regression problem](https://scikit-learn.org/stable/modules/generated/sklearn.datasets.load_diabetes.html#sklearn.datasets.load_diabetes),\n",
    "2. fit and predict a couple of regression models to that data, for example [linear regressor](https://scikit-learn.org/stable/modules/generated/sklearn.linear_model.LinearRegression.html?highlight=linear%20regression#sklearn.linear_model.LinearRegression) and [ridge regression](https://scikit-learn.org/stable/modules/generated/sklearn.linear_model.Ridge.html#sklearn.linear_model.Ridge) and \n",
    "3. apply some of the popular metrics such as MAE, MSE, RMSE and R^2, available in `sklearn.metrics`. You just need to apply them the same way we did with the more complex classification metrics."
   ]
  },
  {
   "cell_type": "code",
   "execution_count": null,
   "metadata": {},
   "outputs": [],
   "source": []
  }
 ],
 "metadata": {
  "kernelspec": {
   "display_name": "Python 3 (ipykernel)",
   "language": "python",
   "name": "python3"
  },
  "language_info": {
   "codemirror_mode": {
    "name": "ipython",
    "version": 3
   },
   "file_extension": ".py",
   "mimetype": "text/x-python",
   "name": "python",
   "nbconvert_exporter": "python",
   "pygments_lexer": "ipython3",
   "version": "3.12.4"
  }
 },
 "nbformat": 4,
 "nbformat_minor": 4
}
